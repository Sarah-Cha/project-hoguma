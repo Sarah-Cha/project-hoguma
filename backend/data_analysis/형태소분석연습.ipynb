{
 "cells": [
  {
   "cell_type": "code",
   "execution_count": null,
   "id": "c288822b",
   "metadata": {},
   "outputs": [],
   "source": [
    "import re\n",
    "from konlpy.tag import Okt"
   ]
  },
  {
   "cell_type": "code",
   "execution_count": null,
   "id": "3bb06740",
   "metadata": {},
   "outputs": [],
   "source": [
    "scripts = []\n",
    "for line in lines:\n",
    "    for character in character_set:\n",
    "        if re.match(f'{character}(\\s)+', line):\n",
    "            # 지시문 제거\n",
    "            p = re.compile(f'{character}\\s')\n",
    "            line = p.sub('', line).strip()\n",
    "            scripts.append(line)"
   ]
  },
  {
   "cell_type": "code",
   "execution_count": null,
   "id": "b54f80ac",
   "metadata": {},
   "outputs": [],
   "source": [
    "okt = Okt()\n",
    "_scripts = []\n",
    "for script in scripts:\n",
    "    _scripts += okt.nouns(script)\n",
    "print(_scripts[:20])"
   ]
  },
  {
   "cell_type": "code",
   "execution_count": null,
   "id": "21fa7a61",
   "metadata": {},
   "outputs": [],
   "source": [
    "word_list = pd.Series(text_list)\n",
    "result = word_list.value_counts().head(20)\n",
    "result"
   ]
  }
 ],
 "metadata": {
  "kernelspec": {
   "display_name": "Python 3",
   "language": "python",
   "name": "python3"
  },
  "language_info": {
   "codemirror_mode": {
    "name": "ipython",
    "version": 3
   },
   "file_extension": ".py",
   "mimetype": "text/x-python",
   "name": "python",
   "nbconvert_exporter": "python",
   "pygments_lexer": "ipython3",
   "version": "3.8.9"
  }
 },
 "nbformat": 4,
 "nbformat_minor": 5
}
